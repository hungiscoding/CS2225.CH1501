{
  "nbformat": 4,
  "nbformat_minor": 0,
  "metadata": {
    "colab": {
      "name": "GroupIntro.ipynb",
      "provenance": [],
      "authorship_tag": "ABX9TyNSop0NErLiUudwkmHmRksO",
      "include_colab_link": true
    },
    "kernelspec": {
      "name": "python3",
      "display_name": "Python 3"
    }
  },
  "cells": [
    {
      "cell_type": "markdown",
      "metadata": {
        "id": "view-in-github",
        "colab_type": "text"
      },
      "source": [
        "<a href=\"https://colab.research.google.com/github/pcdanh/CS2225.CH1501/blob/master/GroupIntro.ipynb\" target=\"_parent\"><img src=\"https://colab.research.google.com/assets/colab-badge.svg\" alt=\"Open In Colab\"/></a>"
      ]
    },
    {
      "cell_type": "markdown",
      "metadata": {
        "id": "osbe16iphPqo"
      },
      "source": [
        "# Nhóm 015:\n",
        "\n",
        "# CH2002018\tLê Tất Thịnh\n",
        "# CH1802003\tPhạm Công Danh\n",
        "# CH2001006\tLê Hưng\n",
        "\n",
        "# GIỚI THIỆU \n",
        "Việt Nam là một trong những nước có sản lượng xuất khẩu gạo hàng đầu thế giới. Tuy nhiên, hằng năm cây lúa khắp nơi đều gặp những bệnh khác nhau khiến năng xuất không đạt được hết mức. Nhóm chúng tôi muốn xây dựng một hệ thống có thể giúp người nông dân nhanh chóng bắt được đúng bệnh của cây lúa và thực hiện các biện pháp trị bệnh kịp thời. \n",
        "\n",
        "# THIẾT KẾ HỆ THỐNG \n",
        "Hệ thống của chúng tôi sẽ được train để phân loại các loại bệnh thường gặp của cây lúa, từ đó đưa ra gợi ý các điều trị, giúp người nông dân đạt năng suất cao nhất.\n",
        "\n",
        "# Đầu vào của hệ thống: \n",
        "Hình ảnh một lá của chiếc lúa có triệu chứng bị bệnh \n",
        "\n",
        "# Đầu ra của hệ thống: \n",
        "Loại bệnh của cây lúa. \n",
        "Gợi ý cách điều trị: thêm nước/thêm phân bón/tăng giảm độ pH.\n",
        "\n",
        "Dữ liệu để train và test hệ thống: tìm kiếm các bộ dataset về các loại bệnh của cây lúa trên các nguồn mở như Kaggle. \n",
        "\n",
        "Rủi ro của hệ thống: Bộ dataset có thể không đủ lớn để nhận dạng các loại bệnh của cây lúa.   \n",
        "\n",
        "# KỲ VỌNG VÀ HƯỚNG PHÁT TRIỂN\n",
        "Hệ thống có thể nhận dạng được loại bệnh của cây lúa với độ chính xác trên 60%.\n",
        "\tTương lai có thể sử dụng camera để nhận dạng loại bệnh của cây lúa theo thời gian thực."
      ]
    }
  ]
}